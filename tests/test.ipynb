{
 "cells": [
  {
   "cell_type": "code",
   "execution_count": 5,
   "id": "08a40920",
   "metadata": {},
   "outputs": [],
   "source": [
    "import pandas as pd\n",
    "import sys\n",
    "sys.path.append('C:\\\\Users\\\\david\\\\Desktop\\\\David\\\\FIB\\\\ReduMetrics\\\\src\\\\metrics')\n",
    "\n",
    "\n",
    "from cdc import centroid_distance_correlation\n",
    "from k_ncp import k_nearest_class_preservation\n",
    "from spearman import spearman_correlation\n",
    "from rta import rta_score\n",
    "from ulse import ulse_score_sklearn\n",
    "from ulse import ulse_score\n"
   ]
  },
  {
   "cell_type": "code",
   "execution_count": 6,
   "id": "e0c09780",
   "metadata": {},
   "outputs": [],
   "source": [
    "original = pd.read_csv('fashion_mnist_flattened.csv', header=None)\n",
    "pca = pd.read_csv('fashion_mnist_pca.csv')\n",
    "tsne = pd.read_csv('fashion_mnist_tsne.csv')\n",
    "umap = pd.read_csv('fashion_mnist_umap.csv')\n",
    "\n",
    "labels = original[original.columns[-1]]"
   ]
  },
  {
   "cell_type": "code",
   "execution_count": 7,
   "id": "5b4bea0e",
   "metadata": {},
   "outputs": [
    {
     "data": {
      "text/html": [
       "<div>\n",
       "<style scoped>\n",
       "    .dataframe tbody tr th:only-of-type {\n",
       "        vertical-align: middle;\n",
       "    }\n",
       "\n",
       "    .dataframe tbody tr th {\n",
       "        vertical-align: top;\n",
       "    }\n",
       "\n",
       "    .dataframe thead th {\n",
       "        text-align: right;\n",
       "    }\n",
       "</style>\n",
       "<table border=\"1\" class=\"dataframe\">\n",
       "  <thead>\n",
       "    <tr style=\"text-align: right;\">\n",
       "      <th></th>\n",
       "      <th>PC1</th>\n",
       "      <th>PC2</th>\n",
       "      <th>Class</th>\n",
       "    </tr>\n",
       "  </thead>\n",
       "  <tbody>\n",
       "    <tr>\n",
       "      <th>0</th>\n",
       "      <td>-126.502938</td>\n",
       "      <td>1632.432337</td>\n",
       "      <td>9</td>\n",
       "    </tr>\n",
       "    <tr>\n",
       "      <th>1</th>\n",
       "      <td>1407.564794</td>\n",
       "      <td>-451.681446</td>\n",
       "      <td>0</td>\n",
       "    </tr>\n",
       "    <tr>\n",
       "      <th>2</th>\n",
       "      <td>-725.430358</td>\n",
       "      <td>-1103.597632</td>\n",
       "      <td>0</td>\n",
       "    </tr>\n",
       "    <tr>\n",
       "      <th>3</th>\n",
       "      <td>31.557157</td>\n",
       "      <td>-981.872749</td>\n",
       "      <td>3</td>\n",
       "    </tr>\n",
       "    <tr>\n",
       "      <th>4</th>\n",
       "      <td>804.468286</td>\n",
       "      <td>-1201.982908</td>\n",
       "      <td>0</td>\n",
       "    </tr>\n",
       "    <tr>\n",
       "      <th>...</th>\n",
       "      <td>...</td>\n",
       "      <td>...</td>\n",
       "      <td>...</td>\n",
       "    </tr>\n",
       "    <tr>\n",
       "      <th>69995</th>\n",
       "      <td>-583.379209</td>\n",
       "      <td>1330.936482</td>\n",
       "      <td>9</td>\n",
       "    </tr>\n",
       "    <tr>\n",
       "      <th>69996</th>\n",
       "      <td>-926.823547</td>\n",
       "      <td>-1264.015676</td>\n",
       "      <td>1</td>\n",
       "    </tr>\n",
       "    <tr>\n",
       "      <th>69997</th>\n",
       "      <td>-510.609456</td>\n",
       "      <td>-726.945271</td>\n",
       "      <td>8</td>\n",
       "    </tr>\n",
       "    <tr>\n",
       "      <th>69998</th>\n",
       "      <td>-220.990352</td>\n",
       "      <td>-1412.482401</td>\n",
       "      <td>1</td>\n",
       "    </tr>\n",
       "    <tr>\n",
       "      <th>69999</th>\n",
       "      <td>-1521.140472</td>\n",
       "      <td>92.540908</td>\n",
       "      <td>5</td>\n",
       "    </tr>\n",
       "  </tbody>\n",
       "</table>\n",
       "<p>70000 rows × 3 columns</p>\n",
       "</div>"
      ],
      "text/plain": [
       "               PC1          PC2  Class\n",
       "0      -126.502938  1632.432337      9\n",
       "1      1407.564794  -451.681446      0\n",
       "2      -725.430358 -1103.597632      0\n",
       "3        31.557157  -981.872749      3\n",
       "4       804.468286 -1201.982908      0\n",
       "...            ...          ...    ...\n",
       "69995  -583.379209  1330.936482      9\n",
       "69996  -926.823547 -1264.015676      1\n",
       "69997  -510.609456  -726.945271      8\n",
       "69998  -220.990352 -1412.482401      1\n",
       "69999 -1521.140472    92.540908      5\n",
       "\n",
       "[70000 rows x 3 columns]"
      ]
     },
     "execution_count": 7,
     "metadata": {},
     "output_type": "execute_result"
    }
   ],
   "source": [
    "pca"
   ]
  },
  {
   "cell_type": "code",
   "execution_count": null,
   "id": "bab630ca",
   "metadata": {},
   "outputs": [],
   "source": [
    "k = 5\n",
    "ulse_score(original.values, pca.values, k)"
   ]
  },
  {
   "cell_type": "code",
   "execution_count": null,
   "id": "52300897",
   "metadata": {},
   "outputs": [
    {
     "data": {
      "text/plain": [
       "0.008062857142857023"
      ]
     },
     "execution_count": 4,
     "metadata": {},
     "output_type": "execute_result"
    }
   ],
   "source": [
    "k = 5\n",
    "ulse_score_sklearn(original, pca, k)"
   ]
  },
  {
   "cell_type": "code",
   "execution_count": null,
   "id": "30a80094",
   "metadata": {},
   "outputs": [
    {
     "data": {
      "text/plain": [
       "0.8673"
      ]
     },
     "execution_count": 46,
     "metadata": {},
     "output_type": "execute_result"
    }
   ],
   "source": [
    "T = 10000\n",
    "rta_score(original.values, pca.values, T, 0)\n"
   ]
  },
  {
   "cell_type": "code",
   "execution_count": null,
   "id": "d353e8a1",
   "metadata": {},
   "outputs": [
    {
     "data": {
      "text/plain": [
       "np.float64(0.910999099909991)"
      ]
     },
     "execution_count": 45,
     "metadata": {},
     "output_type": "execute_result"
    }
   ],
   "source": [
    "P = 100\n",
    "spearman_correlation(original.values, pca.values, P, 0)"
   ]
  },
  {
   "cell_type": "code",
   "execution_count": null,
   "id": "3b5dfcdf",
   "metadata": {},
   "outputs": [
    {
     "data": {
      "text/plain": [
       "0.9333333333333332"
      ]
     },
     "execution_count": 44,
     "metadata": {},
     "output_type": "execute_result"
    }
   ],
   "source": [
    "k_nearest_class_preservation(original.values, pca, labels)"
   ]
  },
  {
   "cell_type": "code",
   "execution_count": null,
   "id": "07835d96",
   "metadata": {},
   "outputs": [
    {
     "data": {
      "text/plain": [
       "np.float64(0.9707509881422924)"
      ]
     },
     "execution_count": 49,
     "metadata": {},
     "output_type": "execute_result"
    }
   ],
   "source": [
    "centroid_distance_correlation(original.values, pca, labels)"
   ]
  }
 ],
 "metadata": {
  "kernelspec": {
   "display_name": "Python 3",
   "language": "python",
   "name": "python3"
  },
  "language_info": {
   "codemirror_mode": {
    "name": "ipython",
    "version": 3
   },
   "file_extension": ".py",
   "mimetype": "text/x-python",
   "name": "python",
   "nbconvert_exporter": "python",
   "pygments_lexer": "ipython3",
   "version": "3.12.4"
  }
 },
 "nbformat": 4,
 "nbformat_minor": 5
}
