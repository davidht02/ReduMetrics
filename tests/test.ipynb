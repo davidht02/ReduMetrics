{
 "cells": [
  {
   "cell_type": "code",
   "execution_count": null,
   "id": "08a40920",
   "metadata": {},
   "outputs": [],
   "source": [
    "import pandas as pd\n",
    "import sys\n",
    "sys.path.append('C:\\\\Users\\\\david\\\\Desktop\\\\David\\\\FIB\\\\ReduMetrics\\\\src\\\\metrics')\n",
    "\n",
    "\n",
    "from cdc import centroid_distance_correlation\n",
    "from k_ncp import k_nearest_class_preservation\n",
    "from spearman import spearman_correlation\n",
    "from rta import rta_score\n",
    "from ulse import ulse_score_sklearn\n",
    "from ulse import ulse_score\n"
   ]
  },
  {
   "cell_type": "code",
   "execution_count": 2,
   "id": "e0c09780",
   "metadata": {},
   "outputs": [],
   "source": [
    "original = pd.read_csv('fashion_mnist_flattened.csv', header=None)\n",
    "pca = pd.read_csv('fashion_mnist_pca.csv')\n",
    "tsne = pd.read_csv('fashion_mnist_tsne.csv')\n",
    "umap = pd.read_csv('fashion_mnist_umap.csv')\n",
    "\n",
    "labels = original[original.columns[-1]]"
   ]
  },
  {
   "cell_type": "code",
   "execution_count": null,
   "id": "bab630ca",
   "metadata": {},
   "outputs": [],
   "source": [
    "k = 5\n",
    "ulse_score(original.values, pca.values, k)"
   ]
  },
  {
   "cell_type": "code",
   "execution_count": null,
   "id": "52300897",
   "metadata": {},
   "outputs": [
    {
     "data": {
      "text/plain": [
       "0.20553714285736974"
      ]
     },
     "execution_count": 37,
     "metadata": {},
     "output_type": "execute_result"
    }
   ],
   "source": [
    "k = 5\n",
    "ulse_score_skalearn(original, pca, k)"
   ]
  },
  {
   "cell_type": "code",
   "execution_count": 46,
   "id": "30a80094",
   "metadata": {},
   "outputs": [
    {
     "data": {
      "text/plain": [
       "0.8673"
      ]
     },
     "execution_count": 46,
     "metadata": {},
     "output_type": "execute_result"
    }
   ],
   "source": [
    "T = 10000\n",
    "rta_score(original.values, pca.values, T, 0)\n"
   ]
  },
  {
   "cell_type": "code",
   "execution_count": 45,
   "id": "d353e8a1",
   "metadata": {},
   "outputs": [
    {
     "data": {
      "text/plain": [
       "np.float64(0.910999099909991)"
      ]
     },
     "execution_count": 45,
     "metadata": {},
     "output_type": "execute_result"
    }
   ],
   "source": [
    "P = 100\n",
    "spearman_correlation(original.values, pca.values, P, 0)"
   ]
  },
  {
   "cell_type": "code",
   "execution_count": 44,
   "id": "3b5dfcdf",
   "metadata": {},
   "outputs": [
    {
     "data": {
      "text/plain": [
       "0.9333333333333332"
      ]
     },
     "execution_count": 44,
     "metadata": {},
     "output_type": "execute_result"
    }
   ],
   "source": [
    "k_nearest_class_preservation(original.values, pca, labels)"
   ]
  },
  {
   "cell_type": "code",
   "execution_count": 49,
   "id": "07835d96",
   "metadata": {},
   "outputs": [
    {
     "data": {
      "text/plain": [
       "np.float64(0.9707509881422924)"
      ]
     },
     "execution_count": 49,
     "metadata": {},
     "output_type": "execute_result"
    }
   ],
   "source": [
    "centroid_distance_correlation(original.values, pca, labels)"
   ]
  }
 ],
 "metadata": {
  "kernelspec": {
   "display_name": "Python 3",
   "language": "python",
   "name": "python3"
  },
  "language_info": {
   "codemirror_mode": {
    "name": "ipython",
    "version": 3
   },
   "file_extension": ".py",
   "mimetype": "text/x-python",
   "name": "python",
   "nbconvert_exporter": "python",
   "pygments_lexer": "ipython3",
   "version": "3.12.4"
  }
 },
 "nbformat": 4,
 "nbformat_minor": 5
}
